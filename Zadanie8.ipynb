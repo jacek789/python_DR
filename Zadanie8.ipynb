{
 "cells": [
  {
   "cell_type": "markdown",
   "metadata": {},
   "source": [
    "# Strumieniowa bezstratna kompresja słownikowa, Lempel-Ziv"
   ]
  },
  {
   "cell_type": "markdown",
   "metadata": {},
   "source": [
    "_Na podstawie:_ [_The Beauty of Lempel-Ziv Compression_](https://youtu.be/RV5aUr8sZD0)\n",
    "\n",
    "**Zadanie:**   \n",
    "Napisać modelowy przykład algorytmu kompresji metodą Lempel-Ziv.\n",
    "\n",
    "Należy zaimplementować dwie funkcje:  \n",
    "* `encode` - przyjmuje ciąg znaków i zwraca jego skompresowaną wersję (w postaci listy krotek)\n",
    "* `decode` - przyjmuje skompresowaną wiadomość i zwraca jej oryginalną treść (zadanie za dwa plusy :).\n",
    "\n",
    "Algorytm jest pokazany na filmiku od 5:20. Polega na wczytywaniu wiadomości znak po znaku i kompresji wiadomości na podstawie słownika fraz, który jest tworzony na bieżąco.\n",
    "\n",
    "W trakcie rozwiązywania tego zadania pojawią się pewne problemy i przypadki, które trzeba będzie obsłużyć w jakiś sposób. Przykład z filmiku w sprytny sposób je unika ;)\n",
    "\n",
    "**Termin oddania:** 27.01.2019 20:00:00\n",
    "\n",
    "Kilka rzeczy, które mogą się przydać:\n",
    "* Do tworzenia słownika fraz, może się przydać... słownik (`{key: value, key2: value}`). Jest on również przydatny z tego względu, że wyszukiwanie danej frazy ma stałą [złożoność czasową](https://wiki.python.org/moin/TimeComplexity) (_Get Item_).\n",
    "* Iterator\n",
    "\n",
    "```\n",
    "import itertools\n",
    "\n",
    "counter = itertools.count(1)\n",
    "\n",
    "print(next(counter))\n",
    "print(next(counter))\n",
    "print(next(counter))\n",
    "```\n",
    "* Ciąg znaków można traktować podobnie jak listę: `'abc'[:-2]`\n",
    "* Sprawdzanie czy klucz istnieje: `key in dictionary`"
   ]
  },
  {
   "cell_type": "markdown",
   "metadata": {},
   "source": [
    "**Przykładowy kod**"
   ]
  },
  {
   "cell_type": "code",
   "execution_count": null,
   "metadata": {},
   "outputs": [],
   "source": [
    "def encode(message):\n",
    "    # code\n",
    "    return compressed_message\n",
    "\n",
    "def decode(compressed_message):\n",
    "    # code\n",
    "    return message\n",
    "\n",
    "message = 'AABABBABBAABA'\n",
    "compressed_message = encode(message)\n",
    "print(compressed_message)  # [(None, 'A'), (1, 'B'), (2, 'B'), (3, 'A'), (2, 'A')]\n",
    "\n",
    "decode(compressed_message) == message  # True"
   ]
  }
 ],
 "metadata": {
  "kernelspec": {
   "display_name": "Python 3",
   "language": "python",
   "name": "python3"
  },
  "language_info": {
   "codemirror_mode": {
    "name": "ipython",
    "version": 3
   },
   "file_extension": ".py",
   "mimetype": "text/x-python",
   "name": "python",
   "nbconvert_exporter": "python",
   "pygments_lexer": "ipython3",
   "version": "3.6.7"
  }
 },
 "nbformat": 4,
 "nbformat_minor": 2
}
