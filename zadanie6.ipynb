{
 "cells": [
  {
   "cell_type": "markdown",
   "metadata": {},
   "source": [
    "# Zadanie 6"
   ]
  },
  {
   "cell_type": "markdown",
   "metadata": {},
   "source": [
    "Napisać klasę, która będzie rozwiązywała bardzo prosty problem regresji. Jej interfejs ma być podobny do funkcji z pakietów typu `sklearn`, tj.:"
   ]
  },
  {
   "cell_type": "code",
   "execution_count": null,
   "metadata": {},
   "outputs": [],
   "source": [
    "model = MyRegression()\n",
    "\n",
    "model.fit(X, y)\n",
    "print(model.coefficients)\n",
    "\n",
    "print(model.predict(X_new))"
   ]
  },
  {
   "cell_type": "markdown",
   "metadata": {},
   "source": [
    "`X` jest _listą_ wartości na podstawie, których powinna zostać policzona wartość średnia i to ona będzie zwracana dla każdego wywołania `predict()`. Zakładamy, że `X_new` również jest listą. Zadanie oczywiście można sobie rozbudować o jakieś parametry podawane przy tworzeniu modelu, np. o _bias_, kóry będzie zawsze dodawany do średniej."
   ]
  },
  {
   "cell_type": "code",
   "execution_count": null,
   "metadata": {},
   "outputs": [],
   "source": [
    "class MyRegression():\n",
    "    pass"
   ]
  }
 ],
 "metadata": {
  "kernelspec": {
   "display_name": "Python 3",
   "language": "python",
   "name": "python3"
  },
  "language_info": {
   "codemirror_mode": {
    "name": "ipython",
    "version": 3
   },
   "file_extension": ".py",
   "mimetype": "text/x-python",
   "name": "python",
   "nbconvert_exporter": "python",
   "pygments_lexer": "ipython3",
   "version": "3.6.7"
  }
 },
 "nbformat": 4,
 "nbformat_minor": 2
}
