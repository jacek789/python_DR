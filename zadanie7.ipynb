{
 "cells": [
  {
   "cell_type": "markdown",
   "metadata": {},
   "source": [
    "# Zadanie 7"
   ]
  },
  {
   "cell_type": "markdown",
   "metadata": {},
   "source": [
    "Żródło: https://www.hackerrank.com/challenges/vertical-sticks/problem\n",
    "![](media/Screenshot_2018-12-01 Vertical Sticks HackerRank.png)"
   ]
  },
  {
   "cell_type": "markdown",
   "metadata": {},
   "source": [
    "_Uwaga: Zmieniłem wejście w stosunku do przykładu powyżej. Funkcja zwraca wartość oczekiwaną dla każdego testu osobno._"
   ]
  },
  {
   "cell_type": "code",
   "execution_count": null,
   "metadata": {},
   "outputs": [],
   "source": [
    "def solve(y):\n",
    "    return 0\n",
    "\n",
    "\n",
    "test_1 = [1, 2, 3]\n",
    "test_2 = [3, 3, 3]\n",
    "test_3 = [2, 2, 3]\n",
    "test_4 = [10, 2, 4, 4]\n",
    "test_5 = [10, 10, 10, 5, 10]\n",
    "test_6 = [1, 2, 3, 4, 5, 6]\n",
    "\n",
    "print(solve(test_1) == 4.33)\n",
    "print(solve(test_2) == 3.00)\n",
    "print(solve(test_3) == 4.00)\n",
    "print(solve(test_4) == 6.00)\n",
    "print(solve(test_5) == 5.80)\n",
    "print(solve(test_6) == 11.15)"
   ]
  }
 ],
 "metadata": {
  "kernelspec": {
   "display_name": "Python 3",
   "language": "python",
   "name": "python3"
  },
  "language_info": {
   "codemirror_mode": {
    "name": "ipython",
    "version": 3
   },
   "file_extension": ".py",
   "mimetype": "text/x-python",
   "name": "python",
   "nbconvert_exporter": "python",
   "pygments_lexer": "ipython3",
   "version": "3.6.7"
  }
 },
 "nbformat": 4,
 "nbformat_minor": 2
}
