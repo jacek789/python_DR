{
 "cells": [
  {
   "cell_type": "markdown",
   "metadata": {},
   "source": [
    "# Zadanie zaliczeniowe"
   ]
  },
  {
   "cell_type": "markdown",
   "metadata": {},
   "source": [
    "**Cel:**\n",
    "Zdobyć jak najwyższą dokładność (_accuracy_) w konkursie na kaggle [Titanic](https://www.kaggle.com/c/titanic). Ocena  będzie obliczana następująco:\n",
    "\n",
    "$$accuracy^{1.2} \\cdot (1 - \\delta_{\\,0.76555,\\, accuracy}\\,) \\cdot 100\\%$$\n",
    "\n",
    "według standardowych progów (po zaokrągleniu do pełnych procentów).\n",
    "\n",
    "Odpowiedzią jest plik z zaimplementowanym modelem.\n",
    "\n",
    "**Termin:** 24.02.2019 20:00:00"
   ]
  },
  {
   "cell_type": "markdown",
   "metadata": {},
   "source": [
    "Należy założyć konto na kagglu, przejść na stronę konkursu, przeczytać _Overview, Rules_, wybrać nazwę w zakładce _Team_, a następnie przejść do zakładki _Data_. Tam znajdują się 3 pliki:  \n",
    "* `train.csv` - na tym pliku będziemy trenować model, zawiera on również etykiety: przeżył lub nie\n",
    "* `test.csv` - dla tego pliku obliczamy predykcję, tworząc plik podobny do następnego\n",
    "* `gender_submission.csv` - zawiera przykładowy, wynikowy plik, który następnie możemy przesłać klikając duży niebieski przycisk na stronie konkursu **Submit Predictions** i otrzymać wynik swojej predykcji."
   ]
  },
  {
   "cell_type": "code",
   "execution_count": null,
   "metadata": {},
   "outputs": [],
   "source": []
  }
 ],
 "metadata": {
  "kernelspec": {
   "display_name": "Python 3",
   "language": "python",
   "name": "python3"
  },
  "language_info": {
   "codemirror_mode": {
    "name": "ipython",
    "version": 3
   },
   "file_extension": ".py",
   "mimetype": "text/x-python",
   "name": "python",
   "nbconvert_exporter": "python",
   "pygments_lexer": "ipython3",
   "version": "3.6.7"
  }
 },
 "nbformat": 4,
 "nbformat_minor": 2
}
